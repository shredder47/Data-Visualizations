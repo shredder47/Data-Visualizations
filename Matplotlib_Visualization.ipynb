{
  "nbformat": 4,
  "nbformat_minor": 0,
  "metadata": {
    "colab": {
      "name": "Matplotlib Visualization.ipynb",
      "provenance": []
    },
    "kernelspec": {
      "name": "python3",
      "display_name": "Python 3"
    }
  },
  "cells": [
    {
      "cell_type": "markdown",
      "metadata": {
        "id": "kChjQM3vpM8f",
        "colab_type": "text"
      },
      "source": [
        "# MatplotLib"
      ]
    },
    {
      "cell_type": "code",
      "metadata": {
        "id": "C0UELFEUoKr5",
        "colab_type": "code",
        "colab": {}
      },
      "source": [
        "import matplotlib.pyplot as plt\n",
        "import pandas as pd\n",
        "%matplotlib inline\n",
        "\n",
        "pd.set_option('display.max_rows',None)\n"
      ],
      "execution_count": 127,
      "outputs": []
    },
    {
      "cell_type": "markdown",
      "metadata": {
        "id": "RJcxCXbPvY4F",
        "colab_type": "text"
      },
      "source": [
        "## Reading Data"
      ]
    },
    {
      "cell_type": "markdown",
      "metadata": {
        "id": "gUXtZ8Byz0Sz",
        "colab_type": "text"
      },
      "source": [
        "[Data Download link](https://www.kaggle.com/edumucelli/spotifys-worldwide-daily-song-ranking)"
      ]
    },
    {
      "cell_type": "code",
      "metadata": {
        "id": "XmuJGFW5rVc6",
        "colab_type": "code",
        "colab": {}
      },
      "source": [
        "df = pd.read_csv('spotify.csv')\n",
        "df['Date'] = pd.to_datetime(df['Date'],format='%Y-%m-%d')\n",
        "\n"
      ],
      "execution_count": 117,
      "outputs": []
    },
    {
      "cell_type": "code",
      "metadata": {
        "id": "Q-CLTSmtrYjS",
        "colab_type": "code",
        "colab": {
          "base_uri": "https://localhost:8080/",
          "height": 126
        },
        "outputId": "7409cbf6-37e1-43b6-ac55-93a7d8bad154"
      },
      "source": [
        "# Regions\n",
        "df['Region'].value_counts().head()"
      ],
      "execution_count": 118,
      "outputs": [
        {
          "output_type": "execute_result",
          "data": {
            "text/plain": [
              "fr    74200\n",
              "mx    74200\n",
              "se    74200\n",
              "es    74200\n",
              "it    74200\n",
              "Name: Region, dtype: int64"
            ]
          },
          "metadata": {
            "tags": []
          },
          "execution_count": 118
        }
      ]
    },
    {
      "cell_type": "code",
      "metadata": {
        "id": "xZWD_Eervi0b",
        "colab_type": "code",
        "colab": {
          "base_uri": "https://localhost:8080/",
          "height": 217
        },
        "outputId": "19418d20-aa21-41ad-a6ba-7581f5546a6a"
      },
      "source": [
        "# Songs\n",
        "df['Track Name'].value_counts().head(10)"
      ],
      "execution_count": 119,
      "outputs": [
        {
          "output_type": "execute_result",
          "data": {
            "text/plain": [
              "Shape of You                                                                                                          19365\n",
              "Believer                                                                                                              16775\n",
              "Despacito (Featuring Daddy Yankee)                                                                                    16284\n",
              "Something Just Like This                                                                                              16194\n",
              "Rockabye (feat. Sean Paul & Anne-Marie)                                                                               16177\n",
              "I Don’t Wanna Live Forever (Fifty Shades Darker) - From \"Fifty Shades Darker (Original Motion Picture Soundtrack)\"    15447\n",
              "Closer                                                                                                                15136\n",
              "Scared to Be Lonely                                                                                                   14836\n",
              "It Ain't Me (with Selena Gomez)                                                                                       14801\n",
              "Let Me Love You                                                                                                       14562\n",
              "Name: Track Name, dtype: int64"
            ]
          },
          "metadata": {
            "tags": []
          },
          "execution_count": 119
        }
      ]
    },
    {
      "cell_type": "markdown",
      "metadata": {
        "id": "D4wNS_BswGsz",
        "colab_type": "text"
      },
      "source": [
        "## Filtering Data\n",
        "##### Getting Required Data for makeing different types of PLOT"
      ]
    },
    {
      "cell_type": "code",
      "metadata": {
        "id": "D3AiWC2lrqyo",
        "colab_type": "code",
        "colab": {}
      },
      "source": [
        "# Creating Filter\n",
        "filt = (df['Track Name'].isin(['Shape of You','Believer','Something Just Like This','Let Me Love You'])) &  (df['Region'] == 'global')"
      ],
      "execution_count": 120,
      "outputs": []
    },
    {
      "cell_type": "code",
      "metadata": {
        "id": "KgCE8BUrsYHP",
        "colab_type": "code",
        "colab": {
          "base_uri": "https://localhost:8080/",
          "height": 348
        },
        "outputId": "ae147fbc-e3dd-4c07-9f62-f2f31b3f5c2d"
      },
      "source": [
        "# Applying filter\n",
        "df = df.loc[filt]\n",
        "df.tail(10)"
      ],
      "execution_count": 121,
      "outputs": [
        {
          "output_type": "execute_result",
          "data": {
            "text/html": [
              "<div>\n",
              "<style scoped>\n",
              "    .dataframe tbody tr th:only-of-type {\n",
              "        vertical-align: middle;\n",
              "    }\n",
              "\n",
              "    .dataframe tbody tr th {\n",
              "        vertical-align: top;\n",
              "    }\n",
              "\n",
              "    .dataframe thead th {\n",
              "        text-align: right;\n",
              "    }\n",
              "</style>\n",
              "<table border=\"1\" class=\"dataframe\">\n",
              "  <thead>\n",
              "    <tr style=\"text-align: right;\">\n",
              "      <th></th>\n",
              "      <th>Position</th>\n",
              "      <th>Track Name</th>\n",
              "      <th>Artist</th>\n",
              "      <th>Streams</th>\n",
              "      <th>URL</th>\n",
              "      <th>Date</th>\n",
              "      <th>Region</th>\n",
              "    </tr>\n",
              "  </thead>\n",
              "  <tbody>\n",
              "    <tr>\n",
              "      <th>3189710</th>\n",
              "      <td>68</td>\n",
              "      <td>Believer</td>\n",
              "      <td>Imagine Dragons</td>\n",
              "      <td>1005617</td>\n",
              "      <td>https://open.spotify.com/track/0CcQNd8CINkwQfe...</td>\n",
              "      <td>2018-01-06</td>\n",
              "      <td>global</td>\n",
              "    </tr>\n",
              "    <tr>\n",
              "      <th>3189855</th>\n",
              "      <td>13</td>\n",
              "      <td>Shape of You</td>\n",
              "      <td>Ed Sheeran</td>\n",
              "      <td>2010547</td>\n",
              "      <td>https://open.spotify.com/track/7qiZfU4dY1lWllz...</td>\n",
              "      <td>2018-01-07</td>\n",
              "      <td>global</td>\n",
              "    </tr>\n",
              "    <tr>\n",
              "      <th>3189900</th>\n",
              "      <td>58</td>\n",
              "      <td>Something Just Like This</td>\n",
              "      <td>The Chainsmokers</td>\n",
              "      <td>973303</td>\n",
              "      <td>https://open.spotify.com/track/6RUKPb4LETWmmr3...</td>\n",
              "      <td>2018-01-07</td>\n",
              "      <td>global</td>\n",
              "    </tr>\n",
              "    <tr>\n",
              "      <th>3189908</th>\n",
              "      <td>66</td>\n",
              "      <td>Believer</td>\n",
              "      <td>Imagine Dragons</td>\n",
              "      <td>935138</td>\n",
              "      <td>https://open.spotify.com/track/0CcQNd8CINkwQfe...</td>\n",
              "      <td>2018-01-07</td>\n",
              "      <td>global</td>\n",
              "    </tr>\n",
              "    <tr>\n",
              "      <th>3190058</th>\n",
              "      <td>16</td>\n",
              "      <td>Shape of You</td>\n",
              "      <td>Ed Sheeran</td>\n",
              "      <td>2073428</td>\n",
              "      <td>https://open.spotify.com/track/7qiZfU4dY1lWllz...</td>\n",
              "      <td>2018-01-08</td>\n",
              "      <td>global</td>\n",
              "    </tr>\n",
              "    <tr>\n",
              "      <th>3190106</th>\n",
              "      <td>64</td>\n",
              "      <td>Something Just Like This</td>\n",
              "      <td>The Chainsmokers</td>\n",
              "      <td>1024044</td>\n",
              "      <td>https://open.spotify.com/track/6RUKPb4LETWmmr3...</td>\n",
              "      <td>2018-01-08</td>\n",
              "      <td>global</td>\n",
              "    </tr>\n",
              "    <tr>\n",
              "      <th>3190109</th>\n",
              "      <td>67</td>\n",
              "      <td>Believer</td>\n",
              "      <td>Imagine Dragons</td>\n",
              "      <td>997969</td>\n",
              "      <td>https://open.spotify.com/track/0CcQNd8CINkwQfe...</td>\n",
              "      <td>2018-01-08</td>\n",
              "      <td>global</td>\n",
              "    </tr>\n",
              "    <tr>\n",
              "      <th>3190260</th>\n",
              "      <td>18</td>\n",
              "      <td>Shape of You</td>\n",
              "      <td>Ed Sheeran</td>\n",
              "      <td>2089950</td>\n",
              "      <td>https://open.spotify.com/track/7qiZfU4dY1lWllz...</td>\n",
              "      <td>2018-01-09</td>\n",
              "      <td>global</td>\n",
              "    </tr>\n",
              "    <tr>\n",
              "      <th>3190308</th>\n",
              "      <td>66</td>\n",
              "      <td>Something Just Like This</td>\n",
              "      <td>The Chainsmokers</td>\n",
              "      <td>1041692</td>\n",
              "      <td>https://open.spotify.com/track/6RUKPb4LETWmmr3...</td>\n",
              "      <td>2018-01-09</td>\n",
              "      <td>global</td>\n",
              "    </tr>\n",
              "    <tr>\n",
              "      <th>3190310</th>\n",
              "      <td>68</td>\n",
              "      <td>Believer</td>\n",
              "      <td>Imagine Dragons</td>\n",
              "      <td>1010175</td>\n",
              "      <td>https://open.spotify.com/track/0CcQNd8CINkwQfe...</td>\n",
              "      <td>2018-01-09</td>\n",
              "      <td>global</td>\n",
              "    </tr>\n",
              "  </tbody>\n",
              "</table>\n",
              "</div>"
            ],
            "text/plain": [
              "         Position                Track Name  ...       Date  Region\n",
              "3189710        68                  Believer  ... 2018-01-06  global\n",
              "3189855        13              Shape of You  ... 2018-01-07  global\n",
              "3189900        58  Something Just Like This  ... 2018-01-07  global\n",
              "3189908        66                  Believer  ... 2018-01-07  global\n",
              "3190058        16              Shape of You  ... 2018-01-08  global\n",
              "3190106        64  Something Just Like This  ... 2018-01-08  global\n",
              "3190109        67                  Believer  ... 2018-01-08  global\n",
              "3190260        18              Shape of You  ... 2018-01-09  global\n",
              "3190308        66  Something Just Like This  ... 2018-01-09  global\n",
              "3190310        68                  Believer  ... 2018-01-09  global\n",
              "\n",
              "[10 rows x 7 columns]"
            ]
          },
          "metadata": {
            "tags": []
          },
          "execution_count": 121
        }
      ]
    },
    {
      "cell_type": "code",
      "metadata": {
        "id": "EhstgtxSsboz",
        "colab_type": "code",
        "colab": {}
      },
      "source": [
        "# Pivoting the DF so \n",
        "df = df.pivot(index='Date',columns='Track Name',values='Streams')"
      ],
      "execution_count": 122,
      "outputs": []
    },
    {
      "cell_type": "code",
      "metadata": {
        "id": "Hk4TYVZqtpdw",
        "colab_type": "code",
        "colab": {
          "base_uri": "https://localhost:8080/",
          "height": 228
        },
        "outputId": "8afbe3c2-b3c3-4b4e-dcd6-e938eacda557"
      },
      "source": [
        "#Dropping NA, ensuring all three four songs have valid stream values\n",
        "df.dropna(inplace=True)\n",
        "df.head()\n"
      ],
      "execution_count": 141,
      "outputs": [
        {
          "output_type": "execute_result",
          "data": {
            "text/html": [
              "<div>\n",
              "<style scoped>\n",
              "    .dataframe tbody tr th:only-of-type {\n",
              "        vertical-align: middle;\n",
              "    }\n",
              "\n",
              "    .dataframe tbody tr th {\n",
              "        vertical-align: top;\n",
              "    }\n",
              "\n",
              "    .dataframe thead th {\n",
              "        text-align: right;\n",
              "    }\n",
              "</style>\n",
              "<table border=\"1\" class=\"dataframe\">\n",
              "  <thead>\n",
              "    <tr style=\"text-align: right;\">\n",
              "      <th>Track Name</th>\n",
              "      <th>Believer</th>\n",
              "      <th>Let Me Love You</th>\n",
              "      <th>Shape of You</th>\n",
              "      <th>Something Just Like This</th>\n",
              "    </tr>\n",
              "    <tr>\n",
              "      <th>Date</th>\n",
              "      <th></th>\n",
              "      <th></th>\n",
              "      <th></th>\n",
              "      <th></th>\n",
              "    </tr>\n",
              "  </thead>\n",
              "  <tbody>\n",
              "    <tr>\n",
              "      <th>2017-02-24</th>\n",
              "      <td>2203215.0</td>\n",
              "      <td>1726123.0</td>\n",
              "      <td>7758898.0</td>\n",
              "      <td>4752225.0</td>\n",
              "    </tr>\n",
              "    <tr>\n",
              "      <th>2017-02-25</th>\n",
              "      <td>2080736.0</td>\n",
              "      <td>1694661.0</td>\n",
              "      <td>7632460.0</td>\n",
              "      <td>4460815.0</td>\n",
              "    </tr>\n",
              "    <tr>\n",
              "      <th>2017-02-26</th>\n",
              "      <td>1839730.0</td>\n",
              "      <td>1443675.0</td>\n",
              "      <td>6583478.0</td>\n",
              "      <td>3949869.0</td>\n",
              "    </tr>\n",
              "    <tr>\n",
              "      <th>2017-02-27</th>\n",
              "      <td>2024142.0</td>\n",
              "      <td>1490013.0</td>\n",
              "      <td>6873096.0</td>\n",
              "      <td>4374275.0</td>\n",
              "    </tr>\n",
              "    <tr>\n",
              "      <th>2017-02-28</th>\n",
              "      <td>2123567.0</td>\n",
              "      <td>1525216.0</td>\n",
              "      <td>7059172.0</td>\n",
              "      <td>4517368.0</td>\n",
              "    </tr>\n",
              "  </tbody>\n",
              "</table>\n",
              "</div>"
            ],
            "text/plain": [
              "Track Name   Believer  Let Me Love You  Shape of You  Something Just Like This\n",
              "Date                                                                          \n",
              "2017-02-24  2203215.0        1726123.0     7758898.0                 4752225.0\n",
              "2017-02-25  2080736.0        1694661.0     7632460.0                 4460815.0\n",
              "2017-02-26  1839730.0        1443675.0     6583478.0                 3949869.0\n",
              "2017-02-27  2024142.0        1490013.0     6873096.0                 4374275.0\n",
              "2017-02-28  2123567.0        1525216.0     7059172.0                 4517368.0"
            ]
          },
          "metadata": {
            "tags": []
          },
          "execution_count": 141
        }
      ]
    },
    {
      "cell_type": "markdown",
      "metadata": {
        "id": "DzzTNaMgDKCB",
        "colab_type": "text"
      },
      "source": [
        "# Line Plot"
      ]
    },
    {
      "cell_type": "code",
      "metadata": {
        "id": "tyH1vE3PyrYP",
        "colab_type": "code",
        "colab": {
          "base_uri": "https://localhost:8080/",
          "height": 376
        },
        "outputId": "232522af-9861-4c6e-aa88-4d2502f86b20"
      },
      "source": [
        "plt.style.use(\"seaborn\")\n",
        "\n",
        "plt.plot(df.index.values, df['Believer'], label = 'Believer')\n",
        "plt.plot(df.index.values, df['Let Me Love You'], label = 'Let Me Love You')\n",
        "plt.plot(df.index.values, df['Shape of You'], label = 'Shape of You')\n",
        "plt.plot(df.index.values, df['Something Just Like This'], label = 'Something Just Like This')\n",
        "\n",
        "plt.xlabel('Date')\n",
        "plt.ylabel('Stream Count')\n",
        "plt.title('Stream Volumes per day!')\n",
        "\n",
        "plt.legend()\n",
        "fig = plt.gcf()\n",
        "fig.set_size_inches(10, 5.5)\n",
        "plt.show()\n"
      ],
      "execution_count": 139,
      "outputs": [
        {
          "output_type": "display_data",
          "data": {
            "image/png": "[encoded data removed]",
            "text/plain": [
              "<Figure size 720x396 with 1 Axes>"
            ]
          },
          "metadata": {
            "tags": []
          }
        }
      ]
    },
    {
      "cell_type": "code",
      "metadata": {
        "id": "IyEQHbUm0f0S",
        "colab_type": "code",
        "colab": {
          "base_uri": "https://localhost:8080/",
          "height": 228
        },
        "outputId": "0bcd61e7-33a2-4bce-faed-b8eee7a29447"
      },
      "source": [
        "df.head()\n"
      ],
      "execution_count": 163,
      "outputs": [
        {
          "output_type": "execute_result",
          "data": {
            "text/html": [
              "<div>\n",
              "<style scoped>\n",
              "    .dataframe tbody tr th:only-of-type {\n",
              "        vertical-align: middle;\n",
              "    }\n",
              "\n",
              "    .dataframe tbody tr th {\n",
              "        vertical-align: top;\n",
              "    }\n",
              "\n",
              "    .dataframe thead th {\n",
              "        text-align: right;\n",
              "    }\n",
              "</style>\n",
              "<table border=\"1\" class=\"dataframe\">\n",
              "  <thead>\n",
              "    <tr style=\"text-align: right;\">\n",
              "      <th>Track Name</th>\n",
              "      <th>Believer</th>\n",
              "      <th>Let Me Love You</th>\n",
              "      <th>Shape of You</th>\n",
              "      <th>Something Just Like This</th>\n",
              "    </tr>\n",
              "    <tr>\n",
              "      <th>Date</th>\n",
              "      <th></th>\n",
              "      <th></th>\n",
              "      <th></th>\n",
              "      <th></th>\n",
              "    </tr>\n",
              "  </thead>\n",
              "  <tbody>\n",
              "    <tr>\n",
              "      <th>2017-02-24</th>\n",
              "      <td>2203215.0</td>\n",
              "      <td>1726123.0</td>\n",
              "      <td>7758898.0</td>\n",
              "      <td>4752225.0</td>\n",
              "    </tr>\n",
              "    <tr>\n",
              "      <th>2017-02-25</th>\n",
              "      <td>2080736.0</td>\n",
              "      <td>1694661.0</td>\n",
              "      <td>7632460.0</td>\n",
              "      <td>4460815.0</td>\n",
              "    </tr>\n",
              "    <tr>\n",
              "      <th>2017-02-26</th>\n",
              "      <td>1839730.0</td>\n",
              "      <td>1443675.0</td>\n",
              "      <td>6583478.0</td>\n",
              "      <td>3949869.0</td>\n",
              "    </tr>\n",
              "    <tr>\n",
              "      <th>2017-02-27</th>\n",
              "      <td>2024142.0</td>\n",
              "      <td>1490013.0</td>\n",
              "      <td>6873096.0</td>\n",
              "      <td>4374275.0</td>\n",
              "    </tr>\n",
              "    <tr>\n",
              "      <th>2017-02-28</th>\n",
              "      <td>2123567.0</td>\n",
              "      <td>1525216.0</td>\n",
              "      <td>7059172.0</td>\n",
              "      <td>4517368.0</td>\n",
              "    </tr>\n",
              "  </tbody>\n",
              "</table>\n",
              "</div>"
            ],
            "text/plain": [
              "Track Name   Believer  Let Me Love You  Shape of You  Something Just Like This\n",
              "Date                                                                          \n",
              "2017-02-24  2203215.0        1726123.0     7758898.0                 4752225.0\n",
              "2017-02-25  2080736.0        1694661.0     7632460.0                 4460815.0\n",
              "2017-02-26  1839730.0        1443675.0     6583478.0                 3949869.0\n",
              "2017-02-27  2024142.0        1490013.0     6873096.0                 4374275.0\n",
              "2017-02-28  2123567.0        1525216.0     7059172.0                 4517368.0"
            ]
          },
          "metadata": {
            "tags": []
          },
          "execution_count": 163
        }
      ]
    },
    {
      "cell_type": "markdown",
      "metadata": {
        "id": "AwJrNK8QNBPO",
        "colab_type": "text"
      },
      "source": [
        "# Bar Plot"
      ]
    },
    {
      "cell_type": "code",
      "metadata": {
        "id": "gR4pY43nHL62",
        "colab_type": "code",
        "colab": {
          "base_uri": "https://localhost:8080/",
          "height": 126
        },
        "outputId": "a6519eb3-882b-462e-b914-b771a41de894"
      },
      "source": [
        "total_stream = df.median()\n",
        "total_stream"
      ],
      "execution_count": 159,
      "outputs": [
        {
          "output_type": "execute_result",
          "data": {
            "text/plain": [
              "Track Name\n",
              "Believer                    1578752.5\n",
              "Let Me Love You              673261.5\n",
              "Shape of You                3301864.0\n",
              "Something Just Like This    2236577.0\n",
              "dtype: float64"
            ]
          },
          "metadata": {
            "tags": []
          },
          "execution_count": 159
        }
      ]
    },
    {
      "cell_type": "code",
      "metadata": {
        "id": "dvec9X9hHUTF",
        "colab_type": "code",
        "colab": {
          "base_uri": "https://localhost:8080/",
          "height": 380
        },
        "outputId": "3bde191e-4ecb-4300-b025-9090ab8b3d3a"
      },
      "source": [
        "x_tracks = total_stream.index.values\n",
        "y_streams = total_stream.values\n",
        "colors = ['b','b','r','b']\n",
        "\n",
        "plt.title('Median Stream Counts')\n",
        "plt.ylabel(\"Median Streams\")\n",
        "\n",
        "fig = plt.gcf() # get current figure\n",
        "fig.set_size_inches(10, 5.5)\n",
        "\n",
        "plt.bar(x_tracks,y_streams,color = colors)\n"
      ],
      "execution_count": 179,
      "outputs": [
        {
          "output_type": "execute_result",
          "data": {
            "text/plain": [
              "<BarContainer object of 4 artists>"
            ]
          },
          "metadata": {
            "tags": []
          },
          "execution_count": 179
        },
        {
          "output_type": "display_data",
          "data": {
            "image/png": "[encoded data removed]",
            "text/plain": [
              "<Figure size 720x396 with 1 Axes>"
            ]
          },
          "metadata": {
            "tags": []
          }
        }
      ]
    },
    {
      "cell_type": "code",
      "metadata": {
        "id": "s7uO5MjFINJ7",
        "colab_type": "code",
        "colab": {}
      },
      "source": [
        ""
      ],
      "execution_count": null,
      "outputs": []
    }
  ]
}